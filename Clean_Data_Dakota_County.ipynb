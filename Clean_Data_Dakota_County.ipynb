{
 "cells": [
  {
   "cell_type": "code",
   "execution_count": 1,
   "id": "f261d687-ae7c-4d90-bcbd-9d1891a2878a",
   "metadata": {},
   "outputs": [],
   "source": [
    "import pandas as pd\n",
    "import numpy as np"
   ]
  },
  {
   "cell_type": "code",
   "execution_count": 2,
   "id": "75f138b1-b24f-4506-8394-47d68bfb9a73",
   "metadata": {},
   "outputs": [],
   "source": [
    "df = pd.read_csv(\"C:/Users/jklenarz/Desktop/red_fin_dakota_county_3_15.csv\")"
   ]
  },
  {
   "cell_type": "code",
   "execution_count": 3,
   "id": "de164cac-8afa-416b-b6d4-1768a0944fea",
   "metadata": {},
   "outputs": [
    {
     "data": {
      "text/html": [
       "<div>\n",
       "<style scoped>\n",
       "    .dataframe tbody tr th:only-of-type {\n",
       "        vertical-align: middle;\n",
       "    }\n",
       "\n",
       "    .dataframe tbody tr th {\n",
       "        vertical-align: top;\n",
       "    }\n",
       "\n",
       "    .dataframe thead th {\n",
       "        text-align: right;\n",
       "    }\n",
       "</style>\n",
       "<table border=\"1\" class=\"dataframe\">\n",
       "  <thead>\n",
       "    <tr style=\"text-align: right;\">\n",
       "      <th></th>\n",
       "      <th>SALE TYPE</th>\n",
       "      <th>PROPERTY TYPE</th>\n",
       "      <th>ADDRESS</th>\n",
       "      <th>CITY</th>\n",
       "      <th>STATE OR PROVINCE</th>\n",
       "      <th>ZIP OR POSTAL CODE</th>\n",
       "      <th>PRICE</th>\n",
       "      <th>BEDS</th>\n",
       "      <th>BATHS</th>\n",
       "      <th>LOCATION</th>\n",
       "      <th>...</th>\n",
       "      <th>LOT SIZE</th>\n",
       "      <th>YEAR BUILT</th>\n",
       "      <th>DAYS ON MARKET</th>\n",
       "      <th>$/SQUARE FEET</th>\n",
       "      <th>HOA/MONTH</th>\n",
       "      <th>URL (SEE https://www.redfin.com/buy-a-home/comparative-market-analysis FOR INFO ON PRICING)</th>\n",
       "      <th>SOURCE</th>\n",
       "      <th>MLS#</th>\n",
       "      <th>LATITUDE</th>\n",
       "      <th>LONGITUDE</th>\n",
       "    </tr>\n",
       "  </thead>\n",
       "  <tbody>\n",
       "    <tr>\n",
       "      <th>0</th>\n",
       "      <td>MLS Listing</td>\n",
       "      <td>Townhouse</td>\n",
       "      <td>845 Wescott Sq</td>\n",
       "      <td>Eagan</td>\n",
       "      <td>MN</td>\n",
       "      <td>55123</td>\n",
       "      <td>349000</td>\n",
       "      <td>3</td>\n",
       "      <td>3</td>\n",
       "      <td>Eagan</td>\n",
       "      <td>...</td>\n",
       "      <td>5445.0</td>\n",
       "      <td>1994</td>\n",
       "      <td>5</td>\n",
       "      <td>226</td>\n",
       "      <td>250.0</td>\n",
       "      <td>https://www.redfin.com/MN/Eagan/845-Wescott-Sq...</td>\n",
       "      <td>NORTHSTARMLS</td>\n",
       "      <td>6159156</td>\n",
       "      <td>44.833087</td>\n",
       "      <td>-93.129735</td>\n",
       "    </tr>\n",
       "    <tr>\n",
       "      <th>1</th>\n",
       "      <td>MLS Listing</td>\n",
       "      <td>Townhouse</td>\n",
       "      <td>18314 Gladden Ln</td>\n",
       "      <td>Lakeville</td>\n",
       "      <td>MN</td>\n",
       "      <td>55044</td>\n",
       "      <td>425000</td>\n",
       "      <td>4</td>\n",
       "      <td>4</td>\n",
       "      <td>Lakeville</td>\n",
       "      <td>...</td>\n",
       "      <td>1785.0</td>\n",
       "      <td>2019</td>\n",
       "      <td>19</td>\n",
       "      <td>186</td>\n",
       "      <td>205.0</td>\n",
       "      <td>https://www.redfin.com/MN/Lakeville/18314-Glad...</td>\n",
       "      <td>NORTHSTARMLS</td>\n",
       "      <td>6153258</td>\n",
       "      <td>44.683365</td>\n",
       "      <td>-93.220157</td>\n",
       "    </tr>\n",
       "    <tr>\n",
       "      <th>2</th>\n",
       "      <td>MLS Listing</td>\n",
       "      <td>Single Family Residential</td>\n",
       "      <td>17904 Greenwich Way</td>\n",
       "      <td>Lakeville</td>\n",
       "      <td>MN</td>\n",
       "      <td>55044</td>\n",
       "      <td>574900</td>\n",
       "      <td>4</td>\n",
       "      <td>3</td>\n",
       "      <td>Summers Creek</td>\n",
       "      <td>...</td>\n",
       "      <td>4486.0</td>\n",
       "      <td>2022</td>\n",
       "      <td>1</td>\n",
       "      <td>180</td>\n",
       "      <td>160.0</td>\n",
       "      <td>https://www.redfin.com/MN/Lakeville/17904-Gree...</td>\n",
       "      <td>NORTHSTARMLS</td>\n",
       "      <td>6164143</td>\n",
       "      <td>44.691318</td>\n",
       "      <td>-93.226815</td>\n",
       "    </tr>\n",
       "    <tr>\n",
       "      <th>3</th>\n",
       "      <td>MLS Listing</td>\n",
       "      <td>Single Family Residential</td>\n",
       "      <td>17908 Greenwich Way</td>\n",
       "      <td>Lakeville</td>\n",
       "      <td>MN</td>\n",
       "      <td>55044</td>\n",
       "      <td>679900</td>\n",
       "      <td>5</td>\n",
       "      <td>3</td>\n",
       "      <td>Summers Creek</td>\n",
       "      <td>...</td>\n",
       "      <td>4486.0</td>\n",
       "      <td>2022</td>\n",
       "      <td>1</td>\n",
       "      <td>188</td>\n",
       "      <td>160.0</td>\n",
       "      <td>https://www.redfin.com/MN/Lakeville/17908-Gree...</td>\n",
       "      <td>NORTHSTARMLS</td>\n",
       "      <td>6163589</td>\n",
       "      <td>44.691269</td>\n",
       "      <td>-93.226611</td>\n",
       "    </tr>\n",
       "    <tr>\n",
       "      <th>4</th>\n",
       "      <td>MLS Listing</td>\n",
       "      <td>Townhouse</td>\n",
       "      <td>4837 Bisset Ln #8105</td>\n",
       "      <td>Inver Grove Heights</td>\n",
       "      <td>MN</td>\n",
       "      <td>55076</td>\n",
       "      <td>280000</td>\n",
       "      <td>2</td>\n",
       "      <td>2</td>\n",
       "      <td>Inver Grove Heights</td>\n",
       "      <td>...</td>\n",
       "      <td>NaN</td>\n",
       "      <td>2005</td>\n",
       "      <td>1</td>\n",
       "      <td>184</td>\n",
       "      <td>336.0</td>\n",
       "      <td>https://www.redfin.com/MN/Inver-Grove-Heights/...</td>\n",
       "      <td>NORTHSTARMLS</td>\n",
       "      <td>6164131</td>\n",
       "      <td>44.878561</td>\n",
       "      <td>-93.055997</td>\n",
       "    </tr>\n",
       "  </tbody>\n",
       "</table>\n",
       "<p>5 rows × 21 columns</p>\n",
       "</div>"
      ],
      "text/plain": [
       "     SALE TYPE              PROPERTY TYPE               ADDRESS  \\\n",
       "0  MLS Listing                  Townhouse        845 Wescott Sq   \n",
       "1  MLS Listing                  Townhouse      18314 Gladden Ln   \n",
       "2  MLS Listing  Single Family Residential   17904 Greenwich Way   \n",
       "3  MLS Listing  Single Family Residential   17908 Greenwich Way   \n",
       "4  MLS Listing                  Townhouse  4837 Bisset Ln #8105   \n",
       "\n",
       "                  CITY STATE OR PROVINCE  ZIP OR POSTAL CODE   PRICE  BEDS  \\\n",
       "0                Eagan                MN               55123  349000     3   \n",
       "1            Lakeville                MN               55044  425000     4   \n",
       "2            Lakeville                MN               55044  574900     4   \n",
       "3            Lakeville                MN               55044  679900     5   \n",
       "4  Inver Grove Heights                MN               55076  280000     2   \n",
       "\n",
       "   BATHS             LOCATION  ...  LOT SIZE  YEAR BUILT  DAYS ON MARKET  \\\n",
       "0      3                Eagan  ...    5445.0        1994               5   \n",
       "1      4            Lakeville  ...    1785.0        2019              19   \n",
       "2      3        Summers Creek  ...    4486.0        2022               1   \n",
       "3      3        Summers Creek  ...    4486.0        2022               1   \n",
       "4      2  Inver Grove Heights  ...       NaN        2005               1   \n",
       "\n",
       "   $/SQUARE FEET  HOA/MONTH  \\\n",
       "0            226      250.0   \n",
       "1            186      205.0   \n",
       "2            180      160.0   \n",
       "3            188      160.0   \n",
       "4            184      336.0   \n",
       "\n",
       "   URL (SEE https://www.redfin.com/buy-a-home/comparative-market-analysis FOR INFO ON PRICING)  \\\n",
       "0  https://www.redfin.com/MN/Eagan/845-Wescott-Sq...                                             \n",
       "1  https://www.redfin.com/MN/Lakeville/18314-Glad...                                             \n",
       "2  https://www.redfin.com/MN/Lakeville/17904-Gree...                                             \n",
       "3  https://www.redfin.com/MN/Lakeville/17908-Gree...                                             \n",
       "4  https://www.redfin.com/MN/Inver-Grove-Heights/...                                             \n",
       "\n",
       "         SOURCE     MLS#   LATITUDE  LONGITUDE  \n",
       "0  NORTHSTARMLS  6159156  44.833087 -93.129735  \n",
       "1  NORTHSTARMLS  6153258  44.683365 -93.220157  \n",
       "2  NORTHSTARMLS  6164143  44.691318 -93.226815  \n",
       "3  NORTHSTARMLS  6163589  44.691269 -93.226611  \n",
       "4  NORTHSTARMLS  6164131  44.878561 -93.055997  \n",
       "\n",
       "[5 rows x 21 columns]"
      ]
     },
     "execution_count": 3,
     "metadata": {},
     "output_type": "execute_result"
    }
   ],
   "source": [
    "df.head()"
   ]
  },
  {
   "cell_type": "code",
   "execution_count": 4,
   "id": "f0eee3be-f27c-438c-b0e8-eb3579bc589e",
   "metadata": {},
   "outputs": [
    {
     "data": {
      "text/plain": [
       "SALE TYPE                                                                                        0\n",
       "PROPERTY TYPE                                                                                    0\n",
       "ADDRESS                                                                                          1\n",
       "CITY                                                                                             0\n",
       "STATE OR PROVINCE                                                                                0\n",
       "ZIP OR POSTAL CODE                                                                               0\n",
       "PRICE                                                                                            0\n",
       "BEDS                                                                                             0\n",
       "BATHS                                                                                            0\n",
       "LOCATION                                                                                         1\n",
       "SQUARE FEET                                                                                      0\n",
       "LOT SIZE                                                                                        52\n",
       "YEAR BUILT                                                                                       0\n",
       "DAYS ON MARKET                                                                                   0\n",
       "$/SQUARE FEET                                                                                    0\n",
       "HOA/MONTH                                                                                      173\n",
       "URL (SEE https://www.redfin.com/buy-a-home/comparative-market-analysis FOR INFO ON PRICING)      0\n",
       "SOURCE                                                                                           0\n",
       "MLS#                                                                                             0\n",
       "LATITUDE                                                                                         0\n",
       "LONGITUDE                                                                                        0\n",
       "dtype: int64"
      ]
     },
     "execution_count": 4,
     "metadata": {},
     "output_type": "execute_result"
    }
   ],
   "source": [
    "df.isnull().sum()"
   ]
  },
  {
   "cell_type": "markdown",
   "id": "f0fbc677-8dcf-4378-aa2f-84d61b3573d5",
   "metadata": {},
   "source": [
    "We will drop the row that does not contain location data, we will use the mean lot size for the missing lot size values, and we will replace missing values for HOA/Month with 0."
   ]
  },
  {
   "cell_type": "code",
   "execution_count": 5,
   "id": "478c5914-d6f3-43b8-a6a1-91623b3a6db6",
   "metadata": {},
   "outputs": [
    {
     "data": {
      "text/plain": [
       "(350, 21)"
      ]
     },
     "execution_count": 5,
     "metadata": {},
     "output_type": "execute_result"
    }
   ],
   "source": [
    "df.shape"
   ]
  },
  {
   "cell_type": "code",
   "execution_count": 7,
   "id": "8ec6a8a9-ac90-4baf-a62e-89dad78ae606",
   "metadata": {},
   "outputs": [
    {
     "data": {
      "text/plain": [
       "240               Lakeville\n",
       "241        Pheasant Run 7th\n",
       "242              Wood Haven\n",
       "243       Caramore Crossing\n",
       "244    The Grove at Avonlea\n",
       "245                     NaN\n",
       "246       Caramore Crossing\n",
       "247            Apple Valley\n",
       "248            Berres Ridge\n",
       "249                   Eagan\n",
       "250              Burnsville\n",
       "Name: LOCATION, dtype: object"
      ]
     },
     "execution_count": 7,
     "metadata": {},
     "output_type": "execute_result"
    }
   ],
   "source": [
    "df.loc[240:250,'LOCATION']"
   ]
  },
  {
   "cell_type": "code",
   "execution_count": 8,
   "id": "caf9f7c4-94c1-4607-a5f5-7f332833fcc3",
   "metadata": {},
   "outputs": [],
   "source": [
    "df = df.drop(df.index[245])"
   ]
  },
  {
   "cell_type": "code",
   "execution_count": 9,
   "id": "fe064e43-e59f-40ac-b6ec-421966c11604",
   "metadata": {},
   "outputs": [
    {
     "data": {
      "text/plain": [
       "(349, 21)"
      ]
     },
     "execution_count": 9,
     "metadata": {},
     "output_type": "execute_result"
    }
   ],
   "source": [
    "df.shape"
   ]
  },
  {
   "cell_type": "code",
   "execution_count": 10,
   "id": "9cd8cfac-74d9-425d-bef4-59884701f01d",
   "metadata": {},
   "outputs": [
    {
     "data": {
      "text/plain": [
       "26264.151515151516"
      ]
     },
     "execution_count": 10,
     "metadata": {},
     "output_type": "execute_result"
    }
   ],
   "source": [
    "# Calculate the mean value of Lot size\n",
    "lot_size_mean = df['LOT SIZE'].mean()\n",
    "lot_size_mean"
   ]
  },
  {
   "cell_type": "code",
   "execution_count": 11,
   "id": "d51980de-f9ff-4788-9d32-e081c6bd4568",
   "metadata": {},
   "outputs": [
    {
     "data": {
      "text/plain": [
       "SALE TYPE                                                                                        0\n",
       "PROPERTY TYPE                                                                                    0\n",
       "ADDRESS                                                                                          0\n",
       "CITY                                                                                             0\n",
       "STATE OR PROVINCE                                                                                0\n",
       "ZIP OR POSTAL CODE                                                                               0\n",
       "PRICE                                                                                            0\n",
       "BEDS                                                                                             0\n",
       "BATHS                                                                                            0\n",
       "LOCATION                                                                                         0\n",
       "SQUARE FEET                                                                                      0\n",
       "LOT SIZE                                                                                         0\n",
       "YEAR BUILT                                                                                       0\n",
       "DAYS ON MARKET                                                                                   0\n",
       "$/SQUARE FEET                                                                                    0\n",
       "HOA/MONTH                                                                                      173\n",
       "URL (SEE https://www.redfin.com/buy-a-home/comparative-market-analysis FOR INFO ON PRICING)      0\n",
       "SOURCE                                                                                           0\n",
       "MLS#                                                                                             0\n",
       "LATITUDE                                                                                         0\n",
       "LONGITUDE                                                                                        0\n",
       "dtype: int64"
      ]
     },
     "execution_count": 11,
     "metadata": {},
     "output_type": "execute_result"
    }
   ],
   "source": [
    "# Replace the np.nan values with its mean value\n",
    "df['LOT SIZE'] = df['LOT SIZE'].replace(np.nan,lot_size_mean)\n",
    "\n",
    "df.isnull().sum()"
   ]
  },
  {
   "cell_type": "code",
   "execution_count": 13,
   "id": "a57c9235-c775-4c93-b1e7-d1e14272cc8b",
   "metadata": {},
   "outputs": [
    {
     "data": {
      "text/plain": [
       "SALE TYPE                                                                                      0\n",
       "PROPERTY TYPE                                                                                  0\n",
       "ADDRESS                                                                                        0\n",
       "CITY                                                                                           0\n",
       "STATE OR PROVINCE                                                                              0\n",
       "ZIP OR POSTAL CODE                                                                             0\n",
       "PRICE                                                                                          0\n",
       "BEDS                                                                                           0\n",
       "BATHS                                                                                          0\n",
       "LOCATION                                                                                       0\n",
       "SQUARE FEET                                                                                    0\n",
       "LOT SIZE                                                                                       0\n",
       "YEAR BUILT                                                                                     0\n",
       "DAYS ON MARKET                                                                                 0\n",
       "$/SQUARE FEET                                                                                  0\n",
       "HOA/MONTH                                                                                      0\n",
       "URL (SEE https://www.redfin.com/buy-a-home/comparative-market-analysis FOR INFO ON PRICING)    0\n",
       "SOURCE                                                                                         0\n",
       "MLS#                                                                                           0\n",
       "LATITUDE                                                                                       0\n",
       "LONGITUDE                                                                                      0\n",
       "dtype: int64"
      ]
     },
     "execution_count": 13,
     "metadata": {},
     "output_type": "execute_result"
    }
   ],
   "source": [
    "#Replace np.nan values for HOA/month with 0\n",
    "df['HOA/MONTH'] = df['HOA/MONTH'].replace(np.nan,0)\n",
    "\n",
    "df.isnull().sum()"
   ]
  },
  {
   "cell_type": "code",
   "execution_count": 14,
   "id": "89d61dd5-021f-408c-8354-c1b8ed6cef75",
   "metadata": {},
   "outputs": [],
   "source": [
    "df.to_csv('cleaned_red_fin_dakota_county_3_15.csv', index=False)"
   ]
  },
  {
   "cell_type": "code",
   "execution_count": null,
   "id": "3f3df79d-12cc-4f62-8f5f-bf6f57b7d16a",
   "metadata": {},
   "outputs": [],
   "source": []
  }
 ],
 "metadata": {
  "kernelspec": {
   "display_name": "Python 3 (ipykernel)",
   "language": "python",
   "name": "python3"
  },
  "language_info": {
   "codemirror_mode": {
    "name": "ipython",
    "version": 3
   },
   "file_extension": ".py",
   "mimetype": "text/x-python",
   "name": "python",
   "nbconvert_exporter": "python",
   "pygments_lexer": "ipython3",
   "version": "3.9.7"
  }
 },
 "nbformat": 4,
 "nbformat_minor": 5
}
